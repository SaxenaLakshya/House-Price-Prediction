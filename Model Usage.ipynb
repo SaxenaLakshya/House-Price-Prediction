{
 "cells": [
  {
   "cell_type": "markdown",
   "id": "e14018c7-919d-49bf-a8f8-c3fd304b4f1d",
   "metadata": {},
   "source": [
    "## Using the Model for Predicting House Prices"
   ]
  },
  {
   "cell_type": "code",
   "execution_count": 8,
   "id": "0aee82f5-e316-47a3-ab46-5ed1e1eb06be",
   "metadata": {},
   "outputs": [],
   "source": [
    "from joblib import dump, load\n",
    "import numpy as np\n",
    "model = load('HousePrediction.joblib')"
   ]
  },
  {
   "cell_type": "code",
   "execution_count": 9,
   "id": "9935f2cb-7723-485f-a8ba-f09c0d48cba2",
   "metadata": {},
   "outputs": [
    {
     "data": {
      "text/plain": [
       "array([22.534])"
      ]
     },
     "execution_count": 9,
     "metadata": {},
     "output_type": "execute_result"
    }
   ],
   "source": [
    "features = np.array([[-0.43942006,  3.12628155, -1.12165014, -0.27288841, -1.42262747,\n",
    "       -0.24415302, -1.31238772,  2.61111401, -1.0016859 , -0.5778192 ,\n",
    "       -0.97491834,  0.41164221, -0.86091034]])\n",
    "model.predict(features)"
   ]
  }
 ],
 "metadata": {
  "kernelspec": {
   "display_name": "Python 3 (ipykernel)",
   "language": "python",
   "name": "python3"
  },
  "language_info": {
   "codemirror_mode": {
    "name": "ipython",
    "version": 3
   },
   "file_extension": ".py",
   "mimetype": "text/x-python",
   "name": "python",
   "nbconvert_exporter": "python",
   "pygments_lexer": "ipython3",
   "version": "3.12.3"
  }
 },
 "nbformat": 4,
 "nbformat_minor": 5
}
